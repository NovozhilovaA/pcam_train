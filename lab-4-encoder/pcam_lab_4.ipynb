{
  "nbformat": 4,
  "nbformat_minor": 0,
  "metadata": {
    "colab": {
      "name": "pcam_lab_4_part1.ipynb",
      "provenance": [],
      "collapsed_sections": [
        "s4spZcAvOQR7"
      ],
      "machine_shape": "hm"
    },
    "kernelspec": {
      "name": "python3",
      "display_name": "Python 3"
    },
    "accelerator": "GPU"
  },
  "cells": [
    {
      "cell_type": "markdown",
      "metadata": {
        "id": "hVFyVgErqKcU",
        "colab_type": "text"
      },
      "source": [
        "# Task"
      ]
    },
    {
      "cell_type": "markdown",
      "metadata": {
        "id": "-qs7P8GRqTQp",
        "colab_type": "text"
      },
      "source": [
        "### Цели\n",
        "Цель настоящей работы состоит в том, чтобы использовать методы обучения без учителя для настройки начальных значений весов сетей, построенных при выполнении предшествующих практических работ. \n",
        "### Задачи \n",
        "Выполнение лабораторной работы предполагает решение следующих задач: \n",
        "1. Выбор архитектур нейронных сетей, построенных при выполнении предшествующих практических работ.\n",
        "2. Выбор методов обучения без учителя для выполнения настройки начальных значений весов сетей. \n",
        "3. Применение методов обучения без учителя к выбранному набору сетей. \n",
        "4. Сбор результатов экспериментов."
      ]
    },
    {
      "cell_type": "markdown",
      "metadata": {
        "id": "YikCqtlTsk2E",
        "colab_type": "text"
      },
      "source": [
        "### Общая последовательность действий Работа предусматривает выполнение следующей последовательности действий: \n",
        "1. Разработка скриптов для описания сетей, реализующих методы обучения без учителя применительно к выбранным архитектурам нейронных сетей. Скрипты предоставляются в формате, доступном библиотеке. \n",
        "2. Обучение разработанных глубоких моделей для получения начальных значений весов требует подготовки скриптов для обучения разработанных архитектур сетей. \n",
        "3. Обучение выбранных архитектур нейронных сетей, при этом необходимо выполнить начальную инициализацию весов сетей значениями, полученными в ходе обучения без учителя. \n",
        "4. Тестирование обученных глубоких моделей требует запуска скриптов для тестирования архитектур сетей, разработанных в ходе выполнения предыдущих лабораторных работ. \n",
        "5. Сбор результатов тестирования разработанных архитектур сетей. \n",
        "6. Публикация разработанных программ/скриптов в личном репозитории на GitHub. Структура репозитория описана в одной из предыдущих практических работ. \n",
        "7. Подготовка отчета, содержащего минимальный объем информации по каждому этапу выполнения работы. Типовая структура отчета описана в более ранней практической работе. \n",
        "  1. Разработанные программы/скрипты. Пофайловое описание содержимого директории src. \n",
        "  2. Тестовые конфигурации сетей. Раздел содержит визуальные схемы конфигураций нейронных сетей и конфигураций, построенных с целью предварительной настройки параметров сети. \n",
        "  3. Результаты экспериментов. Раздел содержит табличку, в которой каждая строка соответствует определенной конфигурации нейронной сети, обученной от начального приближения весов, которое построено тем или иным методом обучения без учителя, а столбцы содержат следующую информацию: время обучения модели (с), качество решения задачи на тестовом множестве (в терминологии описанной метрики). Опционально в перечень столбцов можно добавить среднее время решения задачи на одном тестовом примере."
      ]
    },
    {
      "cell_type": "markdown",
      "metadata": {
        "id": "BxOvWLUHnefs",
        "colab_type": "text"
      },
      "source": [
        "# Data preparation"
      ]
    },
    {
      "cell_type": "markdown",
      "metadata": {
        "id": "5AHELqQyns9C",
        "colab_type": "text"
      },
      "source": [
        "## Load data"
      ]
    },
    {
      "cell_type": "code",
      "metadata": {
        "id": "EcozEEXAmf2h",
        "colab_type": "code",
        "outputId": "416a3d1d-ca43-47ff-beb2-c54c1cd9f7dc",
        "colab": {
          "base_uri": "https://localhost:8080/",
          "height": 197
        }
      },
      "source": [
        "from google.colab import drive\n",
        "drive.mount('/content/drive')\n",
        "%pip install keras-metrics"
      ],
      "execution_count": 90,
      "outputs": [
        {
          "output_type": "stream",
          "text": [
            "Drive already mounted at /content/drive; to attempt to forcibly remount, call drive.mount(\"/content/drive\", force_remount=True).\n",
            "Requirement already satisfied: keras-metrics in /usr/local/lib/python3.6/dist-packages (1.1.0)\n",
            "Requirement already satisfied: Keras>=2.1.5 in /usr/local/lib/python3.6/dist-packages (from keras-metrics) (2.2.5)\n",
            "Requirement already satisfied: h5py in /usr/local/lib/python3.6/dist-packages (from Keras>=2.1.5->keras-metrics) (2.8.0)\n",
            "Requirement already satisfied: numpy>=1.9.1 in /usr/local/lib/python3.6/dist-packages (from Keras>=2.1.5->keras-metrics) (1.17.5)\n",
            "Requirement already satisfied: keras-applications>=1.0.8 in /usr/local/lib/python3.6/dist-packages (from Keras>=2.1.5->keras-metrics) (1.0.8)\n",
            "Requirement already satisfied: pyyaml in /usr/local/lib/python3.6/dist-packages (from Keras>=2.1.5->keras-metrics) (3.13)\n",
            "Requirement already satisfied: keras-preprocessing>=1.1.0 in /usr/local/lib/python3.6/dist-packages (from Keras>=2.1.5->keras-metrics) (1.1.0)\n",
            "Requirement already satisfied: scipy>=0.14 in /usr/local/lib/python3.6/dist-packages (from Keras>=2.1.5->keras-metrics) (1.4.1)\n",
            "Requirement already satisfied: six>=1.9.0 in /usr/local/lib/python3.6/dist-packages (from Keras>=2.1.5->keras-metrics) (1.12.0)\n"
          ],
          "name": "stdout"
        }
      ]
    },
    {
      "cell_type": "code",
      "metadata": {
        "id": "WkVdE6rYm0Wa",
        "colab_type": "code",
        "outputId": "8d1c5dbf-217d-4cdc-e6c0-001b769f08a9",
        "colab": {
          "base_uri": "https://localhost:8080/",
          "height": 35
        }
      },
      "source": [
        "cd  '/content/drive/My Drive/DL_PCAM'"
      ],
      "execution_count": 91,
      "outputs": [
        {
          "output_type": "stream",
          "text": [
            "/content/drive/My Drive/DL_PCAM\n"
          ],
          "name": "stdout"
        }
      ]
    },
    {
      "cell_type": "code",
      "metadata": {
        "id": "V3r9MkNP9cNc",
        "colab_type": "code",
        "colab": {}
      },
      "source": [
        "import gzip\n",
        "import shutil\n",
        "import pandas as pd\n",
        "from matplotlib import pyplot\n",
        "import numpy as np\n",
        "import cv2 as cv\n",
        "from keras.utils import HDF5Matrix, normalize\n",
        "from keras.models import Sequential, Model\n",
        "from keras.layers import Dense, Conv2D, MaxPooling2D, AveragePooling2D, Flatten, BatchNormalization, Dropout, Activation, Input, ZeroPadding2D, Add, Reshape, InputLayer\n",
        "\n",
        "from keras.layers import Input\n",
        "from keras.optimizers import Adam\n",
        "from keras.callbacks import ModelCheckpoint, LearningRateScheduler\n",
        "from keras.callbacks import ReduceLROnPlateau\n",
        "from keras.preprocessing.image import ImageDataGenerator\n",
        "\n",
        "from keras.regularizers import l2\n",
        "from keras.preprocessing.image import ImageDataGenerator\n",
        "from keras import optimizers\n",
        "import keras_metrics as ksm\n",
        "import tensorflow as tf"
      ],
      "execution_count": 0,
      "outputs": []
    },
    {
      "cell_type": "code",
      "metadata": {
        "id": "eMAGHEyDm5sw",
        "colab_type": "code",
        "colab": {}
      },
      "source": [
        "train_x_name = 'camelyonpatch_level_2_split_train_x.h5'\n",
        "train_y_name = 'camelyonpatch_level_2_split_train_y.h5'\n",
        "\n",
        "test_x_name = 'camelyonpatch_level_2_split_test_x.h5'\n",
        "test_y_name = 'camelyonpatch_level_2_split_test_y.h5'\n",
        "\n",
        "valid_x_name = 'camelyonpatch_level_2_split_valid_x.h5'\n",
        "valid_y_name = 'camelyonpatch_level_2_split_valid_y.h5'\n",
        "\n",
        "meta_train_name = 'camelyonpatch_level_2_split_train_meta.csv'\n",
        "meta_valid_name = 'camelyonpatch_level_2_split_valid_meta.csv'\n",
        "meta_test_name  = 'camelyonpatch_level_2_split_test_meta.csv'"
      ],
      "execution_count": 0,
      "outputs": []
    },
    {
      "cell_type": "markdown",
      "metadata": {
        "id": "FDGThFP8nwGM",
        "colab_type": "text"
      },
      "source": [
        "## Normalize data"
      ]
    },
    {
      "cell_type": "code",
      "metadata": {
        "id": "ufgUbWFzalGJ",
        "colab_type": "code",
        "colab": {}
      },
      "source": [
        "from keras.utils import HDF5Matrix, normalize\n",
        "import tensorflow as ktf\n",
        "sess = ktf.Session()\n",
        "\n",
        "new_size = 32\n",
        "dim_size = (new_size, new_size)\n",
        "\n",
        "x_train = HDF5Matrix(train_x_name, 'x', \n",
        "                     normalizer=lambda x: np.true_divide(np.array(ktf.image.resize_images(x, dim_size).eval(session=sess)), 255.))\n",
        "y_train = HDF5Matrix(train_y_name, 'y')\n",
        "\n",
        "x_valid = HDF5Matrix(valid_x_name, 'x', \n",
        "                     normalizer=lambda x: np.true_divide(np.array(ktf.image.resize_images(x, dim_size).eval(session=sess)), 255.))\n",
        "y_valid = HDF5Matrix(valid_y_name, 'y')\n",
        "\n",
        "x_test  = HDF5Matrix(test_x_name, 'x', \n",
        "                     normalizer=lambda x: np.true_divide(np.array(ktf.image.resize_images(x, dim_size).eval(session=sess)), 255.))\n",
        "y_test  = HDF5Matrix(test_y_name, 'y')"
      ],
      "execution_count": 0,
      "outputs": []
    },
    {
      "cell_type": "markdown",
      "metadata": {
        "id": "QWLV0rPXn2Vq",
        "colab_type": "text"
      },
      "source": [
        "## Show some examples of data"
      ]
    },
    {
      "cell_type": "code",
      "metadata": {
        "id": "0hq5Ys3Cm_-5",
        "colab_type": "code",
        "outputId": "196311e8-2e59-481a-e36f-686a700c3f88",
        "colab": {
          "base_uri": "https://localhost:8080/",
          "height": 340
        }
      },
      "source": [
        "print(len(x_train))\n",
        "print(type(x_train))\n",
        "print(type(x_train[0]))\n",
        "print(x_train[0].shape)\n",
        "\n",
        "for i in range(0, 9):\n",
        "\t\tpyplot.subplot(330 + 1 + i)\n",
        "\t\tpyplot.imshow(x_train[i], cmap=pyplot.get_cmap('gray'))\n",
        "pyplot.show()\n"
      ],
      "execution_count": 95,
      "outputs": [
        {
          "output_type": "stream",
          "text": [
            "262144\n",
            "<class 'keras.utils.io_utils.HDF5Matrix'>\n",
            "<class 'numpy.ndarray'>\n",
            "(32, 32, 3)\n"
          ],
          "name": "stdout"
        },
        {
          "output_type": "display_data",
          "data": {
            "image/png": "[encoded data removed]",
            "text/plain": [
              "<Figure size 432x288 with 9 Axes>"
            ]
          },
          "metadata": {
            "tags": []
          }
        }
      ]
    },
    {
      "cell_type": "markdown",
      "metadata": {
        "id": "s4spZcAvOQR7",
        "colab_type": "text"
      },
      "source": [
        "# Reshape labels"
      ]
    },
    {
      "cell_type": "code",
      "metadata": {
        "id": "NMKdtnKHqzPs",
        "colab_type": "code",
        "outputId": "c131d90d-ab2c-40c8-eb0b-ef14ec5abc44",
        "colab": {
          "base_uri": "https://localhost:8080/",
          "height": 107
        }
      },
      "source": [
        "# Input image dimensions.\n",
        "input_shape = x_train.shape[1:]\n",
        "\n",
        "y_train = np.array(y_train)\n",
        "y_train = y_train.reshape((y_train.shape[0], 1))\n",
        "\n",
        "y_valid = np.array(y_valid)\n",
        "y_valid = y_valid.reshape((y_valid.shape[0], 1))\n",
        "\n",
        "y_test = np.array(y_test)\n",
        "y_test = y_test.reshape((y_test.shape[0], 1))\n",
        "\n",
        "print('input share:', input_shape)\n",
        "print('x_train shape:', x_train.shape)\n",
        "\n",
        "print(x_train.shape[0], 'train samples')\n",
        "print(x_test.shape[0], 'test samples')\n",
        "print('y_train shape:', y_train.shape)"
      ],
      "execution_count": 96,
      "outputs": [
        {
          "output_type": "stream",
          "text": [
            "input share: (32, 32, 3)\n",
            "x_train shape: (262144, 32, 32, 3)\n",
            "262144 train samples\n",
            "32768 test samples\n",
            "y_train shape: (262144, 1)\n"
          ],
          "name": "stdout"
        }
      ]
    },
    {
      "cell_type": "code",
      "metadata": {
        "id": "JSriCIhVc7Pw",
        "colab_type": "code",
        "outputId": "a64d768e-29a4-4773-df45-08a94a91d0d6",
        "colab": {
          "base_uri": "https://localhost:8080/",
          "height": 89
        }
      },
      "source": [
        "y_train = np.array(y_train)\n",
        "y_train = y_train.reshape((y_train.shape[0], 1))\n",
        "print(\"1 in train : {}\".format(np.count_nonzero(y_train == 1)))\n",
        "print(\"0 in train : {}\".format(np.count_nonzero(y_train == 0)))\n",
        "\n",
        "y_valid = np.array(y_valid)\n",
        "y_valid = y_valid.reshape((y_valid.shape[0], 1))\n",
        "print(\"1 in valid : {}\".format(np.count_nonzero(y_valid == 1)))\n",
        "print(\"0 in valid : {}\".format(np.count_nonzero(y_valid == 0)))"
      ],
      "execution_count": 97,
      "outputs": [
        {
          "output_type": "stream",
          "text": [
            "1 in train : 131072\n",
            "0 in train : 131072\n",
            "1 in valid : 16369\n",
            "0 in valid : 16399\n"
          ],
          "name": "stdout"
        }
      ]
    },
    {
      "cell_type": "markdown",
      "metadata": {
        "id": "S-qVqj0cOLi9",
        "colab_type": "text"
      },
      "source": [
        "# Resnet"
      ]
    },
    {
      "cell_type": "code",
      "metadata": {
        "id": "TS03utsUObCD",
        "colab_type": "code",
        "colab": {}
      },
      "source": [
        "# Model params \n",
        "L2_REG = 1e-3       # 1e-4\n",
        "LEARN_RATE = 1e-3   # 1e-3\n",
        "BATH_NORM = True    # False"
      ],
      "execution_count": 0,
      "outputs": []
    },
    {
      "cell_type": "code",
      "metadata": {
        "id": "L3dfUt5h75Xd",
        "colab_type": "code",
        "colab": {}
      },
      "source": [
        "# FIXME Remove this code as we don't use sheduling \n",
        "def lr_schedule(epoch):\n",
        "    \"\"\"Learning Rate Schedule\n",
        "\n",
        "    Learning rate is scheduled to be reduced after 80, 120, 160, 180 epochs.\n",
        "    Called automatically every epoch as part of callbacks during training.\n",
        "\n",
        "    # Arguments\n",
        "        epoch (int): The number of epochs\n",
        "\n",
        "    # Returns\n",
        "        lr (float32): learning rate\n",
        "    \"\"\"\n",
        "    # lr = 1e-3\n",
        "    lr = LEARN_RATE\n",
        "    if epoch > 180:\n",
        "        lr *= 0.5e-3\n",
        "    elif epoch > 160:\n",
        "        lr *= 1e-3\n",
        "    elif epoch > 120:\n",
        "        lr *= 1e-2\n",
        "    elif epoch > 80:\n",
        "        lr *= 1e-1\n",
        "    print('Learning rate: ', lr)\n",
        "    return lr"
      ],
      "execution_count": 0,
      "outputs": []
    },
    {
      "cell_type": "markdown",
      "metadata": {
        "id": "qTFbso4tF8jL",
        "colab_type": "text"
      },
      "source": [
        "# FCN with the same layers"
      ]
    },
    {
      "cell_type": "code",
      "metadata": {
        "id": "YDVtYHInF7oh",
        "colab_type": "code",
        "colab": {}
      },
      "source": [
        "def encoder_net(full_size,\n",
        "                hidden_activation = 'sigmoid',\n",
        "                activation = 'relu',\n",
        "                initializer='random_uniform'):\n",
        "  \n",
        "    name_model = 'encoder FCN'\n",
        "    model = Sequential([\n",
        "    # ---------------------------------------------------------#\n",
        "    Reshape((1, 1, full_size,)),\n",
        "    # ---------------------------------------------------------#\n",
        "    Dense(int(full_size), \n",
        "          kernel_initializer=initializer, \n",
        "          bias_initializer=initializer), \n",
        "    Activation(hidden_activation),\n",
        "    # ---------------------------------------------------------#\n",
        "    Dense(int(full_size), \n",
        "          kernel_initializer=initializer, \n",
        "          bias_initializer=initializer), \n",
        "    Activation(hidden_activation),\n",
        "    # ---------------------------------------------------------#\n",
        "    Dense(int(full_size), \n",
        "          kernel_initializer=initializer, \n",
        "          bias_initializer=initializer), \n",
        "    Activation(hidden_activation),\n",
        "    # ---------------------------------------------------------#\n",
        "    Dense(int(full_size / 2), \n",
        "          kernel_initializer=initializer, \n",
        "          bias_initializer=initializer), \n",
        "    Activation(hidden_activation),\n",
        "    # ---------------------------------------------------------#\n",
        "    Dense(int(full_size / 4), \n",
        "          kernel_initializer=initializer, \n",
        "          bias_initializer=initializer), \n",
        "    Activation(hidden_activation),\n",
        "    # ---------------------------------------------------------#\n",
        "    Dense(int(full_size / 8), \n",
        "          kernel_initializer=initializer, \n",
        "          bias_initializer=initializer), \n",
        "    Activation(hidden_activation),\n",
        "    # ---------------------------------------------------------#\n",
        "    Dense(1),                    \n",
        "    Activation(activation),\n",
        "    # ---------------------------------------------------------#\n",
        "    ])\n",
        "    return model\n",
        "  \n",
        "def decoder_net(full_size,\n",
        "                hidden_activation = 'sigmoid',\n",
        "                initializer='random_uniform'):\n",
        "  \n",
        "    name_model = 'decoder FCN'\n",
        "    model = Sequential([\n",
        "    # ---------------------------------------------------------#\n",
        "    Dense(int(full_size / 8), \n",
        "          kernel_initializer=initializer, \n",
        "          bias_initializer=initializer), \n",
        "    Activation(hidden_activation),\n",
        "    # ---------------------------------------------------------#\n",
        "    Dense(int(full_size / 4), \n",
        "          kernel_initializer=initializer, \n",
        "          bias_initializer=initializer), \n",
        "    Activation(hidden_activation),\n",
        "    # ---------------------------------------------------------#\n",
        "    Dense(int(full_size / 2), \n",
        "          kernel_initializer=initializer, \n",
        "          bias_initializer=initializer), \n",
        "    Activation(hidden_activation),\n",
        "    # ---------------------------------------------------------#\n",
        "    Dense(int(full_size), \n",
        "          kernel_initializer=initializer, \n",
        "          bias_initializer=initializer), \n",
        "    Activation(hidden_activation),\n",
        "    # ---------------------------------------------------------#\n",
        "    Dense(int(full_size), \n",
        "          kernel_initializer=initializer, \n",
        "          bias_initializer=initializer), \n",
        "    Activation(hidden_activation),\n",
        "    # ---------------------------------------------------------#\n",
        "    Dense(int(full_size), \n",
        "          kernel_initializer=initializer, \n",
        "          bias_initializer=initializer), \n",
        "    Activation(hidden_activation),\n",
        "    # ---------------------------------------------------------#\n",
        "    ])\n",
        "    return model\n"
      ],
      "execution_count": 0,
      "outputs": []
    },
    {
      "cell_type": "markdown",
      "metadata": {
        "id": "I08rfaiiOU4c",
        "colab_type": "text"
      },
      "source": [
        "#Compile & run model"
      ]
    },
    {
      "cell_type": "code",
      "metadata": {
        "id": "x8WdKljEpUYC",
        "colab_type": "code",
        "colab": {}
      },
      "source": [
        "# Training params\n",
        "BATCH_SIZE = 256\n",
        "EPOCHS = 10"
      ],
      "execution_count": 0,
      "outputs": []
    },
    {
      "cell_type": "code",
      "metadata": {
        "id": "Dg636koVMawL",
        "colab_type": "code",
        "colab": {}
      },
      "source": [
        "import time\n",
        "\n",
        "start_time = time.time()\n",
        "\n",
        "# Prepare callbacks for model saving and for learning rate adjustment.\n",
        "lr_scheduler = LearningRateScheduler(lr_schedule)\n",
        "\n",
        "lr_reducer = ReduceLROnPlateau(factor=np.sqrt(0.1),\n",
        "                               cooldown=0,\n",
        "                               patience=5,\n",
        "                               min_lr=0.5e-6)\n",
        "\n",
        "callbacks = [lr_reducer, lr_scheduler]"
      ],
      "execution_count": 0,
      "outputs": []
    },
    {
      "cell_type": "code",
      "metadata": {
        "id": "DM8OJjfhMape",
        "colab_type": "code",
        "outputId": "251d1d97-b793-4590-dfc1-05c05ab1ba51",
        "colab": {
          "base_uri": "https://localhost:8080/",
          "height": 376
        }
      },
      "source": [
        "final_model = encoder_net(new_size)\n",
        "\n",
        "\n",
        "final_model.compile(loss='binary_crossentropy',\n",
        "              optimizer=Adam(lr=lr_schedule(0)),\n",
        "              metrics = ['binary_accuracy', \n",
        "                         'accuracy',\n",
        "                          ksm.binary_precision(), \n",
        "                          ksm.binary_recall(),\n",
        "                          ksm.binary_f1_score()\n",
        "                        ])\n",
        "\n",
        "final_model.fit(x_train, y_train,\n",
        "                batch_size=BATCH_SIZE,\n",
        "                epochs=EPOCHS,\n",
        "                validation_data=(x_test, y_test),\n",
        "                shuffle=\"batch\",\n",
        "                callbacks=callbacks)"
      ],
      "execution_count": 107,
      "outputs": [
        {
          "output_type": "stream",
          "text": [
            "Learning rate:  0.001\n"
          ],
          "name": "stdout"
        },
        {
          "output_type": "error",
          "ename": "ValueError",
          "evalue": "ignored",
          "traceback": [
            "\u001b[0;31m---------------------------------------------------------------------------\u001b[0m",
            "\u001b[0;31mValueError\u001b[0m                                Traceback (most recent call last)",
            "\u001b[0;32m<ipython-input-107-1b6a474ad95a>\u001b[0m in \u001b[0;36m<module>\u001b[0;34m()\u001b[0m\n\u001b[1;32m     16\u001b[0m                 \u001b[0mvalidation_data\u001b[0m\u001b[0;34m=\u001b[0m\u001b[0;34m(\u001b[0m\u001b[0mx_test\u001b[0m\u001b[0;34m,\u001b[0m \u001b[0my_test\u001b[0m\u001b[0;34m)\u001b[0m\u001b[0;34m,\u001b[0m\u001b[0;34m\u001b[0m\u001b[0;34m\u001b[0m\u001b[0m\n\u001b[1;32m     17\u001b[0m                 \u001b[0mshuffle\u001b[0m\u001b[0;34m=\u001b[0m\u001b[0;34m\"batch\"\u001b[0m\u001b[0;34m,\u001b[0m\u001b[0;34m\u001b[0m\u001b[0;34m\u001b[0m\u001b[0m\n\u001b[0;32m---> 18\u001b[0;31m                 callbacks=callbacks)\n\u001b[0m",
            "\u001b[0;32m/usr/local/lib/python3.6/dist-packages/keras/engine/training.py\u001b[0m in \u001b[0;36mfit\u001b[0;34m(self, x, y, batch_size, epochs, verbose, callbacks, validation_split, validation_data, shuffle, class_weight, sample_weight, initial_epoch, steps_per_epoch, validation_steps, validation_freq, max_queue_size, workers, use_multiprocessing, **kwargs)\u001b[0m\n\u001b[1;32m   1087\u001b[0m             \u001b[0msample_weight\u001b[0m\u001b[0;34m=\u001b[0m\u001b[0msample_weight\u001b[0m\u001b[0;34m,\u001b[0m\u001b[0;34m\u001b[0m\u001b[0;34m\u001b[0m\u001b[0m\n\u001b[1;32m   1088\u001b[0m             \u001b[0mclass_weight\u001b[0m\u001b[0;34m=\u001b[0m\u001b[0mclass_weight\u001b[0m\u001b[0;34m,\u001b[0m\u001b[0;34m\u001b[0m\u001b[0;34m\u001b[0m\u001b[0m\n\u001b[0;32m-> 1089\u001b[0;31m             batch_size=batch_size)\n\u001b[0m\u001b[1;32m   1090\u001b[0m \u001b[0;34m\u001b[0m\u001b[0m\n\u001b[1;32m   1091\u001b[0m         \u001b[0;31m# Prepare validation data.\u001b[0m\u001b[0;34m\u001b[0m\u001b[0;34m\u001b[0m\u001b[0;34m\u001b[0m\u001b[0m\n",
            "\u001b[0;32m/usr/local/lib/python3.6/dist-packages/keras/engine/training.py\u001b[0m in \u001b[0;36m_standardize_user_data\u001b[0;34m(self, x, y, sample_weight, class_weight, check_array_lengths, batch_size)\u001b[0m\n\u001b[1;32m    674\u001b[0m                                      \u001b[0;34m'either a single '\u001b[0m\u001b[0;34m\u001b[0m\u001b[0;34m\u001b[0m\u001b[0m\n\u001b[1;32m    675\u001b[0m                                      \u001b[0;34m'array or a list of arrays. '\u001b[0m\u001b[0;34m\u001b[0m\u001b[0;34m\u001b[0m\u001b[0m\n\u001b[0;32m--> 676\u001b[0;31m                                      'You passed: x=' + str(x))\n\u001b[0m\u001b[1;32m    677\u001b[0m                 \u001b[0mall_inputs\u001b[0m\u001b[0;34m.\u001b[0m\u001b[0mappend\u001b[0m\u001b[0;34m(\u001b[0m\u001b[0mx\u001b[0m\u001b[0;34m)\u001b[0m\u001b[0;34m\u001b[0m\u001b[0;34m\u001b[0m\u001b[0m\n\u001b[1;32m    678\u001b[0m \u001b[0;34m\u001b[0m\u001b[0m\n",
            "\u001b[0;31mValueError\u001b[0m: Please provide as model inputs either a single array or a list of arrays. You passed: x=<keras.utils.io_utils.HDF5Matrix object at 0x7fb6a03da240>"
          ]
        }
      ]
    },
    {
      "cell_type": "code",
      "metadata": {
        "id": "-f0hy8DYKsk-",
        "colab_type": "code",
        "colab": {}
      },
      "source": [
        "# history = model.fit(x_train, y_train,\n",
        "#           batch_size=BATCH_SIZE,\n",
        "#           epochs=EPOCHS,\n",
        "#           validation_data=(x_test, y_test),\n",
        "#           shuffle=\"batch\",\n",
        "#           callbacks=callbacks)"
      ],
      "execution_count": 0,
      "outputs": []
    },
    {
      "cell_type": "markdown",
      "metadata": {
        "id": "KBkFhZL-aU4i",
        "colab_type": "text"
      },
      "source": [
        "# Metrics"
      ]
    },
    {
      "cell_type": "markdown",
      "metadata": {
        "id": "dzlHMBsqoTFO",
        "colab_type": "text"
      },
      "source": [
        "## Prepare metric functions"
      ]
    },
    {
      "cell_type": "code",
      "metadata": {
        "id": "MG44ZHO0nAkU",
        "colab_type": "code",
        "colab": {}
      },
      "source": [
        "def plot_metrics(code_metrics, name_metrics):\n",
        "    pyplot.plot(history.history[code_metrics])\n",
        "    pyplot.plot(history.history['val_' + code_metrics])\n",
        "    pyplot.title('Model ' + name_metrics)\n",
        "    pyplot.ylabel(name_metrics)\n",
        "    pyplot.xlabel('Epoch')\n",
        "    pyplot.legend(['Train', 'Test'], loc='upper left')\n",
        "    pyplot.show()\n",
        "\n",
        "def show_metrics(list_metrics, name_stage, name_model):\n",
        "    name_metrics = ['accuracy', 'precision', 'recall', 'f1-score']\n",
        "    for i in range(4):\n",
        "        print(name_model + ' ' + name_stage + ' ' + \n",
        "              name_metrics[i] + ' : ' + str(list_metrics[i + 1] * 100))"
      ],
      "execution_count": 0,
      "outputs": []
    },
    {
      "cell_type": "markdown",
      "metadata": {
        "id": "kZ4qadWWoW6i",
        "colab_type": "text"
      },
      "source": [
        "## Hardcoded check how many time we was right"
      ]
    },
    {
      "cell_type": "code",
      "metadata": {
        "id": "7T_ZgHBlfyXj",
        "colab_type": "code",
        "colab": {}
      },
      "source": [
        "prediction = model.predict(x_train)\n",
        "print(\">=0.5 (1): {}\".format(np.count_nonzero(prediction >= 0.5)))\n",
        "print(\"<0.5 (0): {}\".format(np.count_nonzero(prediction < 0.5)))\n",
        "\n",
        "print(\"1 in train : {}\".format(np.count_nonzero(y_train == 1)))\n",
        "print(\"0 in train : {}\".format(np.count_nonzero(y_train == 0)))\n",
        "\n",
        "print(prediction)"
      ],
      "execution_count": 0,
      "outputs": []
    },
    {
      "cell_type": "code",
      "metadata": {
        "id": "x6kRNBx6e2tG",
        "colab_type": "code",
        "colab": {}
      },
      "source": [
        "prediction = model.predict(x_test)\n",
        "print(\">=0.5 (1): {}\".format(np.count_nonzero(prediction >= 0.5)))\n",
        "print(\"<0.5 (0): {}\".format(np.count_nonzero(prediction < 0.5)))\n",
        "\n",
        "print(\"1 in test : {}\".format(np.count_nonzero(y_test == 1)))\n",
        "print(\"0 in test : {}\".format(np.count_nonzero(y_test == 0)))\n",
        "\n",
        "print(prediction)"
      ],
      "execution_count": 0,
      "outputs": []
    },
    {
      "cell_type": "markdown",
      "metadata": {
        "id": "9BGWmJBkofJP",
        "colab_type": "text"
      },
      "source": [
        "## Metrics"
      ]
    },
    {
      "cell_type": "code",
      "metadata": {
        "id": "9ZNXxRk-nFIt",
        "colab_type": "code",
        "colab": {}
      },
      "source": [
        "plot_metrics('loss', 'Loss')\n",
        "plot_metrics('binary_accuracy',  'Binary accuracy')\n",
        "plot_metrics('precision', 'precision')\n",
        "plot_metrics('recall', 'recall')\n",
        "plot_metrics('f1_score',  'f1_score')"
      ],
      "execution_count": 0,
      "outputs": []
    },
    {
      "cell_type": "code",
      "metadata": {
        "id": "zVS9VTE4xXWt",
        "colab_type": "code",
        "colab": {}
      },
      "source": [
        "# name_model = \"resnet20\"\n",
        "# preproc = ImageDataGenerator(preprocessing_function=lambda x: x/255.)    \n",
        "# show_metrics(model.evaluate(preproc(x_train, y_train)), 'train', name_model)\n",
        "# show_metrics(model.evaluate(preproc(x_valid, y_valid)), 'valid', name_model)\n",
        "# show_metrics(model.evaluate(preproc(x_test,  y_test)),  'test',  name_model)"
      ],
      "execution_count": 0,
      "outputs": []
    },
    {
      "cell_type": "code",
      "metadata": {
        "id": "O_A855KlL01l",
        "colab_type": "code",
        "colab": {}
      },
      "source": [
        "name_model = \"resnet20\"\n",
        "show_metrics(model.evaluate(x_train, y_train), 'train', name_model)\n",
        "show_metrics(model.evaluate(x_valid, y_valid), 'valid', name_model)\n",
        "show_metrics(model.evaluate(x_test,  y_test),  'test',  name_model)"
      ],
      "execution_count": 0,
      "outputs": []
    }
  ]
}